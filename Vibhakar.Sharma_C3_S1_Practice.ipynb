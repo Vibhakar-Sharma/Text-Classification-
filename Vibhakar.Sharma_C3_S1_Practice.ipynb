{
 "cells": [
  {
   "cell_type": "markdown",
   "id": "e8be8c9b",
   "metadata": {},
   "source": [
    "# Logistic regression for Text Classification"
   ]
  },
  {
   "cell_type": "markdown",
   "id": "74d5efa3",
   "metadata": {},
   "source": [
    "#### Importing required librabries "
   ]
  },
  {
   "cell_type": "code",
   "execution_count": 41,
   "id": "4e900aec",
   "metadata": {},
   "outputs": [
    {
     "name": "stderr",
     "output_type": "stream",
     "text": [
      "[nltk_data] Downloading package stopwords to\n",
      "[nltk_data]     C:\\Users\\HP\\AppData\\Roaming\\nltk_data...\n",
      "[nltk_data]   Package stopwords is already up-to-date!\n"
     ]
    }
   ],
   "source": [
    "from sklearn.datasets import load_files\n",
    "from sklearn.feature_extraction.text import TfidfVectorizer\n",
    "import nltk \n",
    "nltk.download(\"stopwords\")\n",
    "from sklearn.model_selection import train_test_split\n",
    "from nltk.corpus import stopwords\n",
    "from sklearn.linear_model import LogisticRegression\n",
    "from sklearn.metrics import f1_score\n",
    "import pandas as pd\n",
    "import seaborn as sns\n",
    "import numpy as np \n",
    "import matplotlib.pyplot as plt\n",
    "\n",
    "import warnings\n",
    "warnings.filterwarnings(\"ignore\")"
   ]
  },
  {
   "cell_type": "markdown",
   "id": "f7fc5938",
   "metadata": {},
   "source": [
    "### TASK 1.1 - Load the data set "
   ]
  },
  {
   "cell_type": "code",
   "execution_count": 42,
   "id": "b432f767",
   "metadata": {
    "scrolled": true
   },
   "outputs": [
    {
     "name": "stdout",
     "output_type": "stream",
     "text": [
      "Total number of instances :  2000\n",
      "Target names :  ['neg', 'pos']\n"
     ]
    }
   ],
   "source": [
    "moviedir = 'C:\\\\Users\\\\HP\\\\Desktop\\\\NIIT Learning\\\\movie_reviews'\n",
    "movie_data= load_files(moviedir, shuffle = True) \n",
    "\n",
    "print(\"Total number of instances : \", len(movie_data.data))\n",
    "print(\"Target names : \", movie_data.target_names)"
   ]
  },
  {
   "cell_type": "markdown",
   "id": "92c5b26b",
   "metadata": {},
   "source": [
    "### Task 1.2 - Split the data set into train and test data"
   ]
  },
  {
   "cell_type": "code",
   "execution_count": 43,
   "id": "00db734d",
   "metadata": {},
   "outputs": [
    {
     "name": "stdout",
     "output_type": "stream",
     "text": [
      "Train size of Review data is  1600\n",
      "Test size of Review data is  400\n"
     ]
    }
   ],
   "source": [
    "# Split data into training and test sets\n",
    "\n",
    "reviews_train, reviews_test, y_train, y_test = train_test_split(\n",
    "    movie_data.data, movie_data.target, test_size = 0.20, random_state = 12)\n",
    "\n",
    "print(\"Train size of Review data is \", len(reviews_train))\n",
    "print(\"Test size of Review data is \", len(reviews_test))"
   ]
  },
  {
   "cell_type": "markdown",
   "id": "f95aa386",
   "metadata": {},
   "source": [
    "### Task 1.3 - Vectorize training data using Tfidf Vectorizer\n",
    "### TASK 1.4 - Vectorize the test data using same technique"
   ]
  },
  {
   "cell_type": "code",
   "execution_count": 71,
   "id": "965b0db0",
   "metadata": {},
   "outputs": [
    {
     "name": "stdout",
     "output_type": "stream",
     "text": [
      "Train size :  (1600, 35734)\n",
      "Test size :  (400, 35734)\n"
     ]
    }
   ],
   "source": [
    "Vectorizer = TfidfVectorizer(sublinear_tf=True, stop_words=stopwords.words('english'),use_idf=True,smooth_idf=True)\n",
    "\n",
    "X_train = Vectorizer.fit_transform(reviews_train)\n",
    "X_test = Vectorizer.transform(reviews_test)\n",
    "\n",
    "print(\"Train size : \", X_train.shape)\n",
    "print(\"Test size : \", X_test.shape)"
   ]
  },
  {
   "cell_type": "markdown",
   "id": "9ce7e14f",
   "metadata": {},
   "source": [
    "### TASK 2.1 - Apply Logistic Regression with L2 regularisation"
   ]
  },
  {
   "cell_type": "code",
   "execution_count": 51,
   "id": "1879ec47",
   "metadata": {},
   "outputs": [],
   "source": [
    "#using logistic regression with L2 regularisation\n",
    "start_train = time.time()\n",
    "regularized_lr=LogisticRegression(penalty='l2', C=1.0)\n",
    "regularized_lr.fit(X_train,y_train)\n",
    "stop_train = time.time()\n",
    "\n",
    "start_test = time.time()\n",
    "reg_pred=regularized_lr.predict(X_test)\n",
    "stop_test = time.time()"
   ]
  },
  {
   "cell_type": "markdown",
   "id": "0c600840",
   "metadata": {},
   "source": [
    "### Task 3.1 - Evaluate the model using F1 score, train and test time"
   ]
  },
  {
   "cell_type": "code",
   "execution_count": 75,
   "id": "a083d544",
   "metadata": {
    "scrolled": true
   },
   "outputs": [
    {
     "name": "stdout",
     "output_type": "stream",
     "text": [
      "F1 Score :  0.8320802005012532\n",
      "Training time :  0.3008255958557129 sec\n",
      "Testing time :  0.0020024776458740234 sec\n"
     ]
    }
   ],
   "source": [
    "print(\"F1 Score : \", f1_score(y_test, reg_pred))\n",
    "print(\"Training time : \", (stop_train-start_train),\"sec\")\n",
    "print(\"Testing time : \", stop_test-start_test, \"sec\")"
   ]
  },
  {
   "cell_type": "markdown",
   "id": "5d1c270f",
   "metadata": {},
   "source": [
    "### Task 3.2 - Plot all the results obtained from f1 scores, diplaying training and test timing."
   ]
  },
  {
   "cell_type": "code",
   "execution_count": 97,
   "id": "e8b346e9",
   "metadata": {},
   "outputs": [
    {
     "data": {
      "image/png": "[encoded data removed]",
      "text/plain": [
       "<Figure size 432x288 with 1 Axes>"
      ]
     },
     "metadata": {
      "needs_background": "light"
     },
     "output_type": "display_data"
    }
   ],
   "source": [
    "r=np.arange(3)\n",
    "plt.bar(r, [f1_score(y_test, reg_pred), (stop_train-start_train),stop_test-start_test], edgecolor= \"black\", color=\"lightblue\")\n",
    "plt.xticks(r,[\"F1 score\",\"Training time\", \"Test Time\"])\n",
    "plt.title(\"Evaluation parameters\")\n",
    "plt.show()"
   ]
  },
  {
   "cell_type": "code",
   "execution_count": 110,
   "id": "7eeb392e",
   "metadata": {},
   "outputs": [
    {
     "data": {
      "text/html": [
       "<div>\n",
       "<style scoped>\n",
       "    .dataframe tbody tr th:only-of-type {\n",
       "        vertical-align: middle;\n",
       "    }\n",
       "\n",
       "    .dataframe tbody tr th {\n",
       "        vertical-align: top;\n",
       "    }\n",
       "\n",
       "    .dataframe thead th {\n",
       "        text-align: right;\n",
       "    }\n",
       "</style>\n",
       "<table border=\"1\" class=\"dataframe\">\n",
       "  <thead>\n",
       "    <tr style=\"text-align: right;\">\n",
       "      <th></th>\n",
       "      <th>Reviews</th>\n",
       "      <th>Prediction</th>\n",
       "    </tr>\n",
       "  </thead>\n",
       "  <tbody>\n",
       "    <tr>\n",
       "      <th>0</th>\n",
       "      <td>b' \" desperate measures \" was something i was ...</td>\n",
       "      <td>Neg</td>\n",
       "    </tr>\n",
       "    <tr>\n",
       "      <th>1</th>\n",
       "      <td>b\"an affluent horse breeder's past comes up to...</td>\n",
       "      <td>Neg</td>\n",
       "    </tr>\n",
       "    <tr>\n",
       "      <th>2</th>\n",
       "      <td>b'i like movies with albert brooks , and i rea...</td>\n",
       "      <td>Pos</td>\n",
       "    </tr>\n",
       "    <tr>\n",
       "      <th>3</th>\n",
       "      <td>b\"i think we should , as responsible citizens ...</td>\n",
       "      <td>Neg</td>\n",
       "    </tr>\n",
       "    <tr>\n",
       "      <th>4</th>\n",
       "      <td>b'with a team of 200 graphic artists and anima...</td>\n",
       "      <td>Pos</td>\n",
       "    </tr>\n",
       "    <tr>\n",
       "      <th>5</th>\n",
       "      <td>b'america\\'s favorite homicidal plaything take...</td>\n",
       "      <td>Neg</td>\n",
       "    </tr>\n",
       "    <tr>\n",
       "      <th>6</th>\n",
       "      <td>b'seen september 13 , 1998 at 4 p . m at rotte...</td>\n",
       "      <td>Pos</td>\n",
       "    </tr>\n",
       "    <tr>\n",
       "      <th>7</th>\n",
       "      <td>b'i had been looking forward to this film sinc...</td>\n",
       "      <td>Neg</td>\n",
       "    </tr>\n",
       "    <tr>\n",
       "      <th>8</th>\n",
       "      <td>b'synopsis : a small town **** convinces a dim...</td>\n",
       "      <td>Neg</td>\n",
       "    </tr>\n",
       "    <tr>\n",
       "      <th>9</th>\n",
       "      <td>b'of circumcision , psychic wounds and the fam...</td>\n",
       "      <td>Pos</td>\n",
       "    </tr>\n",
       "  </tbody>\n",
       "</table>\n",
       "</div>"
      ],
      "text/plain": [
       "                                             Reviews Prediction\n",
       "0  b' \" desperate measures \" was something i was ...        Neg\n",
       "1  b\"an affluent horse breeder's past comes up to...        Neg\n",
       "2  b'i like movies with albert brooks , and i rea...        Pos\n",
       "3  b\"i think we should , as responsible citizens ...        Neg\n",
       "4  b'with a team of 200 graphic artists and anima...        Pos\n",
       "5  b'america\\'s favorite homicidal plaything take...        Neg\n",
       "6  b'seen september 13 , 1998 at 4 p . m at rotte...        Pos\n",
       "7  b'i had been looking forward to this film sinc...        Neg\n",
       "8  b'synopsis : a small town **** convinces a dim...        Neg\n",
       "9  b'of circumcision , psychic wounds and the fam...        Pos"
      ]
     },
     "execution_count": 110,
     "metadata": {},
     "output_type": "execute_result"
    }
   ],
   "source": [
    "#creating dataframe of reviews and predicted class\n",
    "df=pd.DataFrame(list(zip(reviews_test, reg_pred)), columns=[\"Reviews\",\"Prediction\"])\n",
    "df[\"Prediction\"]= df[\"Prediction\"].replace((0,1),(\"Neg\", \"Pos\"))\n",
    "df.head(10)"
   ]
  },
  {
   "cell_type": "markdown",
   "id": "78f5a57b",
   "metadata": {},
   "source": [
    "### CONCLUSION : The logistic text classification model is getting the accuracy of 83%, so it can be use to predict the classification of text reviews as negative and positive."
   ]
  },
  {
   "cell_type": "code",
   "execution_count": null,
   "id": "8a02779a",
   "metadata": {},
   "outputs": [],
   "source": []
  }
 ],
 "metadata": {
  "kernelspec": {
   "display_name": "Python 3 (ipykernel)",
   "language": "python",
   "name": "python3"
  },
  "language_info": {
   "codemirror_mode": {
    "name": "ipython",
    "version": 3
   },
   "file_extension": ".py",
   "mimetype": "text/x-python",
   "name": "python",
   "nbconvert_exporter": "python",
   "pygments_lexer": "ipython3",
   "version": "3.9.12"
  }
 },
 "nbformat": 4,
 "nbformat_minor": 5
}
